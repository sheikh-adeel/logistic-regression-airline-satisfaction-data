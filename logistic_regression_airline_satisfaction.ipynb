{
 "cells": [
  {
   "cell_type": "markdown",
   "id": "886c34ba-052d-486e-960a-714330c8d906",
   "metadata": {},
   "source": [
    "# Determine if a better in-flight entertainment experience leads to higher customer satisfaction using logistic regression"
   ]
  },
  {
   "cell_type": "code",
   "execution_count": 3,
   "id": "9682fd63-7818-410b-a71a-21e8ba96ec09",
   "metadata": {},
   "outputs": [],
   "source": [
    "import numpy as np\n",
    "import pandas as pd\n",
    "\n",
    "from sklearn.preprocessing import OneHotEncoder\n",
    "from sklearn.model_selection import train_test_split\n",
    "from sklearn.linear_model import LogisticRegression\n",
    "import sklearn.metrics as metrics\n",
    "\n",
    "import matplotlib.pyplot as plt\n",
    "import seaborn as sns\n",
    "import statsmodels as sm"
   ]
  },
  {
   "cell_type": "code",
   "execution_count": 4,
   "id": "4c3c220f-4e71-4891-b392-db5e5c2bc398",
   "metadata": {},
   "outputs": [],
   "source": [
    "airline_csat = pd.read_csv(\"..\\airline_satisfaction.csv\", index_col=0)"
   ]
  },
  {
   "cell_type": "code",
   "execution_count": 6,
   "id": "f2c8d887-7450-4bff-bf5f-eb4d49ae8fa3",
   "metadata": {},
   "outputs": [
    {
     "data": {
      "text/plain": [
       "<bound method NDFrame.head of         Gender      Customer Type  Age   Type of Travel     Class  \\\n",
       "id                                                                  \n",
       "70172     Male     Loyal Customer   13  Personal Travel  Eco Plus   \n",
       "5047      Male  disloyal Customer   25  Business travel  Business   \n",
       "110028  Female     Loyal Customer   26  Business travel  Business   \n",
       "24026   Female     Loyal Customer   25  Business travel  Business   \n",
       "119299    Male     Loyal Customer   61  Business travel  Business   \n",
       "...        ...                ...  ...              ...       ...   \n",
       "78463     Male  disloyal Customer   34  Business travel  Business   \n",
       "71167     Male     Loyal Customer   23  Business travel  Business   \n",
       "37675   Female     Loyal Customer   17  Personal Travel       Eco   \n",
       "90086     Male     Loyal Customer   14  Business travel  Business   \n",
       "34799   Female     Loyal Customer   42  Personal Travel       Eco   \n",
       "\n",
       "        Flight Distance  Inflight wifi service  \\\n",
       "id                                               \n",
       "70172               460                      3   \n",
       "5047                235                      3   \n",
       "110028             1142                      2   \n",
       "24026               562                      2   \n",
       "119299              214                      3   \n",
       "...                 ...                    ...   \n",
       "78463               526                      3   \n",
       "71167               646                      4   \n",
       "37675               828                      2   \n",
       "90086              1127                      3   \n",
       "34799               264                      2   \n",
       "\n",
       "        Departure/Arrival time convenient  Ease of Online booking  \\\n",
       "id                                                                  \n",
       "70172                                   4                       3   \n",
       "5047                                    2                       3   \n",
       "110028                                  2                       2   \n",
       "24026                                   5                       5   \n",
       "119299                                  3                       3   \n",
       "...                                   ...                     ...   \n",
       "78463                                   3                       3   \n",
       "71167                                   4                       4   \n",
       "37675                                   5                       1   \n",
       "90086                                   3                       3   \n",
       "34799                                   5                       2   \n",
       "\n",
       "        Gate location  ...  Inflight entertainment  On-board service  \\\n",
       "id                     ...                                             \n",
       "70172               1  ...                       5                 4   \n",
       "5047                3  ...                       1                 1   \n",
       "110028              2  ...                       5                 4   \n",
       "24026               5  ...                       2                 2   \n",
       "119299              3  ...                       3                 3   \n",
       "...               ...  ...                     ...               ...   \n",
       "78463               1  ...                       4                 3   \n",
       "71167               4  ...                       4                 4   \n",
       "37675               5  ...                       2                 4   \n",
       "90086               3  ...                       4                 3   \n",
       "34799               5  ...                       1                 1   \n",
       "\n",
       "        Leg room service  Baggage handling  Checkin service  Inflight service  \\\n",
       "id                                                                              \n",
       "70172                  3                 4                4                 5   \n",
       "5047                   5                 3                1                 4   \n",
       "110028                 3                 4                4                 4   \n",
       "24026                  5                 3                1                 4   \n",
       "119299                 4                 4                3                 3   \n",
       "...                  ...               ...              ...               ...   \n",
       "78463                  2                 4                4                 5   \n",
       "71167                  5                 5                5                 5   \n",
       "37675                  3                 4                5                 4   \n",
       "90086                  2                 5                4                 5   \n",
       "34799                  2                 1                1                 1   \n",
       "\n",
       "        Cleanliness  Departure Delay in Minutes  Arrival Delay in Minutes  \\\n",
       "id                                                                          \n",
       "70172             5                          25                      18.0   \n",
       "5047              1                           1                       6.0   \n",
       "110028            5                           0                       0.0   \n",
       "24026             2                          11                       9.0   \n",
       "119299            3                           0                       0.0   \n",
       "...             ...                         ...                       ...   \n",
       "78463             4                           0                       0.0   \n",
       "71167             4                           0                       0.0   \n",
       "37675             2                           0                       0.0   \n",
       "90086             4                           0                       0.0   \n",
       "34799             1                           0                       0.0   \n",
       "\n",
       "                   satisfaction  \n",
       "id                               \n",
       "70172   neutral or dissatisfied  \n",
       "5047    neutral or dissatisfied  \n",
       "110028                satisfied  \n",
       "24026   neutral or dissatisfied  \n",
       "119299                satisfied  \n",
       "...                         ...  \n",
       "78463   neutral or dissatisfied  \n",
       "71167                 satisfied  \n",
       "37675   neutral or dissatisfied  \n",
       "90086                 satisfied  \n",
       "34799   neutral or dissatisfied  \n",
       "\n",
       "[129880 rows x 23 columns]>"
      ]
     },
     "execution_count": 6,
     "metadata": {},
     "output_type": "execute_result"
    }
   ],
   "source": [
    "airline_csat.head"
   ]
  },
  {
   "cell_type": "code",
   "execution_count": 7,
   "id": "cdfda26c-289b-4e0f-a162-582f1019f202",
   "metadata": {},
   "outputs": [
    {
     "data": {
      "text/plain": [
       "(129880, 23)"
      ]
     },
     "execution_count": 7,
     "metadata": {},
     "output_type": "execute_result"
    }
   ],
   "source": [
    "airline_csat.shape"
   ]
  },
  {
   "cell_type": "code",
   "execution_count": 8,
   "id": "9bb2a769-eb7c-4b4e-9872-829b15e7a40e",
   "metadata": {},
   "outputs": [
    {
     "name": "stdout",
     "output_type": "stream",
     "text": [
      "<class 'pandas.core.frame.DataFrame'>\n",
      "Int64Index: 129880 entries, 70172 to 34799\n",
      "Data columns (total 23 columns):\n",
      " #   Column                             Non-Null Count   Dtype  \n",
      "---  ------                             --------------   -----  \n",
      " 0   Gender                             129880 non-null  object \n",
      " 1   Customer Type                      129880 non-null  object \n",
      " 2   Age                                129880 non-null  int64  \n",
      " 3   Type of Travel                     129880 non-null  object \n",
      " 4   Class                              129880 non-null  object \n",
      " 5   Flight Distance                    129880 non-null  int64  \n",
      " 6   Inflight wifi service              129880 non-null  int64  \n",
      " 7   Departure/Arrival time convenient  129880 non-null  int64  \n",
      " 8   Ease of Online booking             129880 non-null  int64  \n",
      " 9   Gate location                      129880 non-null  int64  \n",
      " 10  Food and drink                     129880 non-null  int64  \n",
      " 11  Online boarding                    129880 non-null  int64  \n",
      " 12  Seat comfort                       129880 non-null  int64  \n",
      " 13  Inflight entertainment             129880 non-null  int64  \n",
      " 14  On-board service                   129880 non-null  int64  \n",
      " 15  Leg room service                   129880 non-null  int64  \n",
      " 16  Baggage handling                   129880 non-null  int64  \n",
      " 17  Checkin service                    129880 non-null  int64  \n",
      " 18  Inflight service                   129880 non-null  int64  \n",
      " 19  Cleanliness                        129880 non-null  int64  \n",
      " 20  Departure Delay in Minutes         129880 non-null  int64  \n",
      " 21  Arrival Delay in Minutes           129487 non-null  float64\n",
      " 22  satisfaction                       129880 non-null  object \n",
      "dtypes: float64(1), int64(17), object(5)\n",
      "memory usage: 23.8+ MB\n"
     ]
    }
   ],
   "source": [
    "airline_csat.info()"
   ]
  },
  {
   "cell_type": "code",
   "execution_count": 9,
   "id": "ba502895-d6c5-49b3-881c-dcb1f78067cb",
   "metadata": {},
   "outputs": [
    {
     "data": {
      "text/plain": [
       "Gender                                 0\n",
       "Customer Type                          0\n",
       "Age                                    0\n",
       "Type of Travel                         0\n",
       "Class                                  0\n",
       "Flight Distance                        0\n",
       "Inflight wifi service                  0\n",
       "Departure/Arrival time convenient      0\n",
       "Ease of Online booking                 0\n",
       "Gate location                          0\n",
       "Food and drink                         0\n",
       "Online boarding                        0\n",
       "Seat comfort                           0\n",
       "Inflight entertainment                 0\n",
       "On-board service                       0\n",
       "Leg room service                       0\n",
       "Baggage handling                       0\n",
       "Checkin service                        0\n",
       "Inflight service                       0\n",
       "Cleanliness                            0\n",
       "Departure Delay in Minutes             0\n",
       "Arrival Delay in Minutes             393\n",
       "satisfaction                           0\n",
       "dtype: int64"
      ]
     },
     "execution_count": 9,
     "metadata": {},
     "output_type": "execute_result"
    }
   ],
   "source": [
    "airline_csat.isnull().sum()"
   ]
  },
  {
   "cell_type": "code",
   "execution_count": 10,
   "id": "a1d1610c-7a1d-452f-ad75-5d76f6062c6d",
   "metadata": {},
   "outputs": [],
   "source": [
    "airline_csat_subset = airline_csat.dropna(axis=0).reset_index()"
   ]
  },
  {
   "cell_type": "code",
   "execution_count": 12,
   "id": "c41fe871-7d3d-4e05-b7d1-8622c1eac133",
   "metadata": {},
   "outputs": [
    {
     "data": {
      "text/plain": [
       "<bound method NDFrame.head of             id  Gender      Customer Type  Age   Type of Travel     Class  \\\n",
       "0        70172    Male     Loyal Customer   13  Personal Travel  Eco Plus   \n",
       "1         5047    Male  disloyal Customer   25  Business travel  Business   \n",
       "2       110028  Female     Loyal Customer   26  Business travel  Business   \n",
       "3        24026  Female     Loyal Customer   25  Business travel  Business   \n",
       "4       119299    Male     Loyal Customer   61  Business travel  Business   \n",
       "...        ...     ...                ...  ...              ...       ...   \n",
       "129482   78463    Male  disloyal Customer   34  Business travel  Business   \n",
       "129483   71167    Male     Loyal Customer   23  Business travel  Business   \n",
       "129484   37675  Female     Loyal Customer   17  Personal Travel       Eco   \n",
       "129485   90086    Male     Loyal Customer   14  Business travel  Business   \n",
       "129486   34799  Female     Loyal Customer   42  Personal Travel       Eco   \n",
       "\n",
       "        Flight Distance  Inflight wifi service  \\\n",
       "0                   460                      3   \n",
       "1                   235                      3   \n",
       "2                  1142                      2   \n",
       "3                   562                      2   \n",
       "4                   214                      3   \n",
       "...                 ...                    ...   \n",
       "129482              526                      3   \n",
       "129483              646                      4   \n",
       "129484              828                      2   \n",
       "129485             1127                      3   \n",
       "129486              264                      2   \n",
       "\n",
       "        Departure/Arrival time convenient  Ease of Online booking  ...  \\\n",
       "0                                       4                       3  ...   \n",
       "1                                       2                       3  ...   \n",
       "2                                       2                       2  ...   \n",
       "3                                       5                       5  ...   \n",
       "4                                       3                       3  ...   \n",
       "...                                   ...                     ...  ...   \n",
       "129482                                  3                       3  ...   \n",
       "129483                                  4                       4  ...   \n",
       "129484                                  5                       1  ...   \n",
       "129485                                  3                       3  ...   \n",
       "129486                                  5                       2  ...   \n",
       "\n",
       "        Inflight entertainment  On-board service  Leg room service  \\\n",
       "0                            5                 4                 3   \n",
       "1                            1                 1                 5   \n",
       "2                            5                 4                 3   \n",
       "3                            2                 2                 5   \n",
       "4                            3                 3                 4   \n",
       "...                        ...               ...               ...   \n",
       "129482                       4                 3                 2   \n",
       "129483                       4                 4                 5   \n",
       "129484                       2                 4                 3   \n",
       "129485                       4                 3                 2   \n",
       "129486                       1                 1                 2   \n",
       "\n",
       "        Baggage handling  Checkin service  Inflight service  Cleanliness  \\\n",
       "0                      4                4                 5            5   \n",
       "1                      3                1                 4            1   \n",
       "2                      4                4                 4            5   \n",
       "3                      3                1                 4            2   \n",
       "4                      4                3                 3            3   \n",
       "...                  ...              ...               ...          ...   \n",
       "129482                 4                4                 5            4   \n",
       "129483                 5                5                 5            4   \n",
       "129484                 4                5                 4            2   \n",
       "129485                 5                4                 5            4   \n",
       "129486                 1                1                 1            1   \n",
       "\n",
       "        Departure Delay in Minutes  Arrival Delay in Minutes  \\\n",
       "0                               25                      18.0   \n",
       "1                                1                       6.0   \n",
       "2                                0                       0.0   \n",
       "3                               11                       9.0   \n",
       "4                                0                       0.0   \n",
       "...                            ...                       ...   \n",
       "129482                           0                       0.0   \n",
       "129483                           0                       0.0   \n",
       "129484                           0                       0.0   \n",
       "129485                           0                       0.0   \n",
       "129486                           0                       0.0   \n",
       "\n",
       "                   satisfaction  \n",
       "0       neutral or dissatisfied  \n",
       "1       neutral or dissatisfied  \n",
       "2                     satisfied  \n",
       "3       neutral or dissatisfied  \n",
       "4                     satisfied  \n",
       "...                         ...  \n",
       "129482  neutral or dissatisfied  \n",
       "129483                satisfied  \n",
       "129484  neutral or dissatisfied  \n",
       "129485                satisfied  \n",
       "129486  neutral or dissatisfied  \n",
       "\n",
       "[129487 rows x 24 columns]>"
      ]
     },
     "execution_count": 12,
     "metadata": {},
     "output_type": "execute_result"
    }
   ],
   "source": [
    "airline_csat_subset.head"
   ]
  },
  {
   "cell_type": "code",
   "execution_count": 13,
   "id": "e501241c-492b-44f4-80f8-6ff76ae17a3c",
   "metadata": {},
   "outputs": [
    {
     "data": {
      "text/plain": [
       "(129487, 24)"
      ]
     },
     "execution_count": 13,
     "metadata": {},
     "output_type": "execute_result"
    }
   ],
   "source": [
    "airline_csat_subset.shape"
   ]
  },
  {
   "cell_type": "code",
   "execution_count": 14,
   "id": "6bf8a1d4-a3b7-4fe0-95cf-cd1e14dea737",
   "metadata": {},
   "outputs": [],
   "source": [
    "airline_csat_subset['Inflight entertainment'] = airline_csat_subset['Inflight entertainment'].astype(float)"
   ]
  },
  {
   "cell_type": "code",
   "execution_count": 17,
   "id": "bfdf649d-99f0-4a9f-a65c-0379a2cb2740",
   "metadata": {},
   "outputs": [
    {
     "data": {
      "text/plain": [
       "id                                     int64\n",
       "Gender                                object\n",
       "Customer Type                         object\n",
       "Age                                    int64\n",
       "Type of Travel                        object\n",
       "Class                                 object\n",
       "Flight Distance                        int64\n",
       "Inflight wifi service                  int64\n",
       "Departure/Arrival time convenient      int64\n",
       "Ease of Online booking                 int64\n",
       "Gate location                          int64\n",
       "Food and drink                         int64\n",
       "Online boarding                        int64\n",
       "Seat comfort                           int64\n",
       "Inflight entertainment               float64\n",
       "On-board service                       int64\n",
       "Leg room service                       int64\n",
       "Baggage handling                       int64\n",
       "Checkin service                        int64\n",
       "Inflight service                       int64\n",
       "Cleanliness                            int64\n",
       "Departure Delay in Minutes             int64\n",
       "Arrival Delay in Minutes             float64\n",
       "satisfaction                          object\n",
       "dtype: object"
      ]
     },
     "execution_count": 17,
     "metadata": {},
     "output_type": "execute_result"
    }
   ],
   "source": [
    "airline_csat_subset.dtypes"
   ]
  },
  {
   "cell_type": "code",
   "execution_count": 18,
   "id": "ed486b64-ce0b-4cc4-b7bc-6b8b62ce2f3e",
   "metadata": {},
   "outputs": [
    {
     "data": {
      "text/plain": [
       "neutral or dissatisfied    56.550078\n",
       "satisfied                  43.449922\n",
       "Name: satisfaction, dtype: float64"
      ]
     },
     "execution_count": 18,
     "metadata": {},
     "output_type": "execute_result"
    }
   ],
   "source": [
    "airline_csat_subset['satisfaction'].value_counts(normalize=True)*100"
   ]
  },
  {
   "cell_type": "code",
   "execution_count": 19,
   "id": "a27243dd-3925-430f-a96b-0befb2fbc68f",
   "metadata": {},
   "outputs": [],
   "source": [
    "airline_csat_subset['satisfaction encoded'] = OneHotEncoder(drop='first').fit_transform(airline_csat_subset[['satisfaction']]).toarray()"
   ]
  },
  {
   "cell_type": "code",
   "execution_count": 20,
   "id": "e5eba35c-8192-479c-9e9f-57fa57309ddf",
   "metadata": {},
   "outputs": [
    {
     "data": {
      "text/html": [
       "<div>\n",
       "<style scoped>\n",
       "    .dataframe tbody tr th:only-of-type {\n",
       "        vertical-align: middle;\n",
       "    }\n",
       "\n",
       "    .dataframe tbody tr th {\n",
       "        vertical-align: top;\n",
       "    }\n",
       "\n",
       "    .dataframe thead th {\n",
       "        text-align: right;\n",
       "    }\n",
       "</style>\n",
       "<table border=\"1\" class=\"dataframe\">\n",
       "  <thead>\n",
       "    <tr style=\"text-align: right;\">\n",
       "      <th></th>\n",
       "      <th>id</th>\n",
       "      <th>Gender</th>\n",
       "      <th>Customer Type</th>\n",
       "      <th>Age</th>\n",
       "      <th>Type of Travel</th>\n",
       "      <th>Class</th>\n",
       "      <th>Flight Distance</th>\n",
       "      <th>Inflight wifi service</th>\n",
       "      <th>Departure/Arrival time convenient</th>\n",
       "      <th>Ease of Online booking</th>\n",
       "      <th>...</th>\n",
       "      <th>On-board service</th>\n",
       "      <th>Leg room service</th>\n",
       "      <th>Baggage handling</th>\n",
       "      <th>Checkin service</th>\n",
       "      <th>Inflight service</th>\n",
       "      <th>Cleanliness</th>\n",
       "      <th>Departure Delay in Minutes</th>\n",
       "      <th>Arrival Delay in Minutes</th>\n",
       "      <th>satisfaction</th>\n",
       "      <th>satisfaction encoded</th>\n",
       "    </tr>\n",
       "  </thead>\n",
       "  <tbody>\n",
       "    <tr>\n",
       "      <th>0</th>\n",
       "      <td>70172</td>\n",
       "      <td>Male</td>\n",
       "      <td>Loyal Customer</td>\n",
       "      <td>13</td>\n",
       "      <td>Personal Travel</td>\n",
       "      <td>Eco Plus</td>\n",
       "      <td>460</td>\n",
       "      <td>3</td>\n",
       "      <td>4</td>\n",
       "      <td>3</td>\n",
       "      <td>...</td>\n",
       "      <td>4</td>\n",
       "      <td>3</td>\n",
       "      <td>4</td>\n",
       "      <td>4</td>\n",
       "      <td>5</td>\n",
       "      <td>5</td>\n",
       "      <td>25</td>\n",
       "      <td>18.0</td>\n",
       "      <td>neutral or dissatisfied</td>\n",
       "      <td>0.0</td>\n",
       "    </tr>\n",
       "    <tr>\n",
       "      <th>1</th>\n",
       "      <td>5047</td>\n",
       "      <td>Male</td>\n",
       "      <td>disloyal Customer</td>\n",
       "      <td>25</td>\n",
       "      <td>Business travel</td>\n",
       "      <td>Business</td>\n",
       "      <td>235</td>\n",
       "      <td>3</td>\n",
       "      <td>2</td>\n",
       "      <td>3</td>\n",
       "      <td>...</td>\n",
       "      <td>1</td>\n",
       "      <td>5</td>\n",
       "      <td>3</td>\n",
       "      <td>1</td>\n",
       "      <td>4</td>\n",
       "      <td>1</td>\n",
       "      <td>1</td>\n",
       "      <td>6.0</td>\n",
       "      <td>neutral or dissatisfied</td>\n",
       "      <td>0.0</td>\n",
       "    </tr>\n",
       "    <tr>\n",
       "      <th>2</th>\n",
       "      <td>110028</td>\n",
       "      <td>Female</td>\n",
       "      <td>Loyal Customer</td>\n",
       "      <td>26</td>\n",
       "      <td>Business travel</td>\n",
       "      <td>Business</td>\n",
       "      <td>1142</td>\n",
       "      <td>2</td>\n",
       "      <td>2</td>\n",
       "      <td>2</td>\n",
       "      <td>...</td>\n",
       "      <td>4</td>\n",
       "      <td>3</td>\n",
       "      <td>4</td>\n",
       "      <td>4</td>\n",
       "      <td>4</td>\n",
       "      <td>5</td>\n",
       "      <td>0</td>\n",
       "      <td>0.0</td>\n",
       "      <td>satisfied</td>\n",
       "      <td>1.0</td>\n",
       "    </tr>\n",
       "    <tr>\n",
       "      <th>3</th>\n",
       "      <td>24026</td>\n",
       "      <td>Female</td>\n",
       "      <td>Loyal Customer</td>\n",
       "      <td>25</td>\n",
       "      <td>Business travel</td>\n",
       "      <td>Business</td>\n",
       "      <td>562</td>\n",
       "      <td>2</td>\n",
       "      <td>5</td>\n",
       "      <td>5</td>\n",
       "      <td>...</td>\n",
       "      <td>2</td>\n",
       "      <td>5</td>\n",
       "      <td>3</td>\n",
       "      <td>1</td>\n",
       "      <td>4</td>\n",
       "      <td>2</td>\n",
       "      <td>11</td>\n",
       "      <td>9.0</td>\n",
       "      <td>neutral or dissatisfied</td>\n",
       "      <td>0.0</td>\n",
       "    </tr>\n",
       "    <tr>\n",
       "      <th>4</th>\n",
       "      <td>119299</td>\n",
       "      <td>Male</td>\n",
       "      <td>Loyal Customer</td>\n",
       "      <td>61</td>\n",
       "      <td>Business travel</td>\n",
       "      <td>Business</td>\n",
       "      <td>214</td>\n",
       "      <td>3</td>\n",
       "      <td>3</td>\n",
       "      <td>3</td>\n",
       "      <td>...</td>\n",
       "      <td>3</td>\n",
       "      <td>4</td>\n",
       "      <td>4</td>\n",
       "      <td>3</td>\n",
       "      <td>3</td>\n",
       "      <td>3</td>\n",
       "      <td>0</td>\n",
       "      <td>0.0</td>\n",
       "      <td>satisfied</td>\n",
       "      <td>1.0</td>\n",
       "    </tr>\n",
       "  </tbody>\n",
       "</table>\n",
       "<p>5 rows × 25 columns</p>\n",
       "</div>"
      ],
      "text/plain": [
       "       id  Gender      Customer Type  Age   Type of Travel     Class  \\\n",
       "0   70172    Male     Loyal Customer   13  Personal Travel  Eco Plus   \n",
       "1    5047    Male  disloyal Customer   25  Business travel  Business   \n",
       "2  110028  Female     Loyal Customer   26  Business travel  Business   \n",
       "3   24026  Female     Loyal Customer   25  Business travel  Business   \n",
       "4  119299    Male     Loyal Customer   61  Business travel  Business   \n",
       "\n",
       "   Flight Distance  Inflight wifi service  Departure/Arrival time convenient  \\\n",
       "0              460                      3                                  4   \n",
       "1              235                      3                                  2   \n",
       "2             1142                      2                                  2   \n",
       "3              562                      2                                  5   \n",
       "4              214                      3                                  3   \n",
       "\n",
       "   Ease of Online booking  ...  On-board service  Leg room service  \\\n",
       "0                       3  ...                 4                 3   \n",
       "1                       3  ...                 1                 5   \n",
       "2                       2  ...                 4                 3   \n",
       "3                       5  ...                 2                 5   \n",
       "4                       3  ...                 3                 4   \n",
       "\n",
       "   Baggage handling  Checkin service  Inflight service  Cleanliness  \\\n",
       "0                 4                4                 5            5   \n",
       "1                 3                1                 4            1   \n",
       "2                 4                4                 4            5   \n",
       "3                 3                1                 4            2   \n",
       "4                 4                3                 3            3   \n",
       "\n",
       "   Departure Delay in Minutes  Arrival Delay in Minutes  \\\n",
       "0                          25                      18.0   \n",
       "1                           1                       6.0   \n",
       "2                           0                       0.0   \n",
       "3                          11                       9.0   \n",
       "4                           0                       0.0   \n",
       "\n",
       "              satisfaction  satisfaction encoded  \n",
       "0  neutral or dissatisfied                   0.0  \n",
       "1  neutral or dissatisfied                   0.0  \n",
       "2                satisfied                   1.0  \n",
       "3  neutral or dissatisfied                   0.0  \n",
       "4                satisfied                   1.0  \n",
       "\n",
       "[5 rows x 25 columns]"
      ]
     },
     "execution_count": 20,
     "metadata": {},
     "output_type": "execute_result"
    }
   ],
   "source": [
    "airline_csat_subset.head()"
   ]
  },
  {
   "cell_type": "code",
   "execution_count": 21,
   "id": "4f013abb-a581-47ec-b0f2-c6e7315993e7",
   "metadata": {},
   "outputs": [],
   "source": [
    "X = airline_csat_subset[['Inflight entertainment']]\n",
    "y = airline_csat_subset['satisfaction encoded']"
   ]
  },
  {
   "cell_type": "code",
   "execution_count": 22,
   "id": "eda67587-1d68-4814-9c84-6a672b238301",
   "metadata": {},
   "outputs": [],
   "source": [
    "X_train, X_test, y_train, y_test = train_test_split(X, y, test_size=0.3, random_state=42)"
   ]
  },
  {
   "cell_type": "code",
   "execution_count": 23,
   "id": "304e8869-867f-429b-b12b-15dd86944853",
   "metadata": {},
   "outputs": [],
   "source": [
    "clf = LogisticRegression().fit(X_train, y_train)"
   ]
  },
  {
   "cell_type": "code",
   "execution_count": 24,
   "id": "9a44f9c5-9e7f-47eb-8e5b-ff59aa98cae7",
   "metadata": {},
   "outputs": [
    {
     "data": {
      "text/plain": [
       "array([[0.70019739]])"
      ]
     },
     "execution_count": 24,
     "metadata": {},
     "output_type": "execute_result"
    }
   ],
   "source": [
    "clf.coef_"
   ]
  },
  {
   "cell_type": "code",
   "execution_count": 25,
   "id": "a355bc88-7570-4af9-88fe-bd62f74b3674",
   "metadata": {},
   "outputs": [
    {
     "data": {
      "text/plain": [
       "array([-2.6838766])"
      ]
     },
     "execution_count": 25,
     "metadata": {},
     "output_type": "execute_result"
    }
   ],
   "source": [
    "clf.intercept_"
   ]
  },
  {
   "cell_type": "code",
   "execution_count": 26,
   "id": "225e36e7-0003-41aa-926e-1c4663206203",
   "metadata": {},
   "outputs": [
    {
     "data": {
      "text/plain": [
       "<Axes: xlabel='Inflight entertainment', ylabel='satisfaction encoded'>"
      ]
     },
     "execution_count": 26,
     "metadata": {},
     "output_type": "execute_result"
    },
    {
     "data": {
      "image/png": "[encoded data removed]",
      "text/plain": [
       "<Figure size 640x480 with 1 Axes>"
      ]
     },
     "metadata": {},
     "output_type": "display_data"
    }
   ],
   "source": [
    "sns.regplot(x='Inflight entertainment', y='satisfaction encoded', data=airline_csat_subset, logistic=True, ci=None)"
   ]
  },
  {
   "cell_type": "code",
   "execution_count": 27,
   "id": "2c3920f3-c231-47d5-b944-d7805eed789d",
   "metadata": {},
   "outputs": [],
   "source": [
    "y_pred = clf.predict(X_test)"
   ]
  },
  {
   "cell_type": "code",
   "execution_count": 28,
   "id": "51d29270-2129-4330-9497-97a52622af17",
   "metadata": {},
   "outputs": [
    {
     "data": {
      "text/plain": [
       "array([1., 0., 1., ..., 0., 1., 0.])"
      ]
     },
     "execution_count": 28,
     "metadata": {},
     "output_type": "execute_result"
    }
   ],
   "source": [
    "y_pred"
   ]
  },
  {
   "cell_type": "code",
   "execution_count": 29,
   "id": "6080d042-aa4d-417e-98fb-4e0881933b1c",
   "metadata": {},
   "outputs": [
    {
     "data": {
      "text/plain": [
       "array([[0.47080501, 0.52919499],\n",
       "       [0.6418228 , 0.3581772 ],\n",
       "       [0.3063774 , 0.6936226 ],\n",
       "       ...,\n",
       "       [0.6418228 , 0.3581772 ],\n",
       "       [0.47080501, 0.52919499],\n",
       "       [0.6418228 , 0.3581772 ]])"
      ]
     },
     "execution_count": 29,
     "metadata": {},
     "output_type": "execute_result"
    }
   ],
   "source": [
    "clf.predict_proba(X_test)"
   ]
  },
  {
   "cell_type": "code",
   "execution_count": 30,
   "id": "9af53b80-3302-422b-a58e-16f8b1f397a4",
   "metadata": {},
   "outputs": [
    {
     "data": {
      "text/plain": [
       "0.6983293433212346"
      ]
     },
     "execution_count": 30,
     "metadata": {},
     "output_type": "execute_result"
    }
   ],
   "source": [
    "metrics.accuracy_score(y_test, y_pred)"
   ]
  },
  {
   "cell_type": "code",
   "execution_count": 31,
   "id": "d851673c-5145-4b7c-b6fe-d9e75ca69fdf",
   "metadata": {},
   "outputs": [
    {
     "data": {
      "text/plain": [
       "0.6245420350740072"
      ]
     },
     "execution_count": 31,
     "metadata": {},
     "output_type": "execute_result"
    }
   ],
   "source": [
    "metrics.precision_score(y_test, y_pred)"
   ]
  },
  {
   "cell_type": "code",
   "execution_count": 32,
   "id": "a4dc0ec2-a5e7-4c00-95b9-7ec5151d39e1",
   "metadata": {},
   "outputs": [
    {
     "data": {
      "text/plain": [
       "0.760197407539541"
      ]
     },
     "execution_count": 32,
     "metadata": {},
     "output_type": "execute_result"
    }
   ],
   "source": [
    "metrics.recall_score(y_test, y_pred)"
   ]
  },
  {
   "cell_type": "code",
   "execution_count": 33,
   "id": "b50a48ce-877d-4da6-9635-b277a82d1748",
   "metadata": {},
   "outputs": [
    {
     "data": {
      "text/plain": [
       "0.6857250127383411"
      ]
     },
     "execution_count": 33,
     "metadata": {},
     "output_type": "execute_result"
    }
   ],
   "source": [
    "metrics.f1_score(y_test, y_pred)"
   ]
  },
  {
   "cell_type": "code",
   "execution_count": 34,
   "id": "a6ffac12-55d8-462a-a6a0-807bcf4102d4",
   "metadata": {},
   "outputs": [],
   "source": [
    "cm = metrics.confusion_matrix(y_test, y_pred, labels = clf.classes_)"
   ]
  },
  {
   "cell_type": "code",
   "execution_count": 35,
   "id": "21c47b1b-5330-43bd-9a16-4b3c4b71cbe1",
   "metadata": {},
   "outputs": [
    {
     "data": {
      "text/plain": [
       "<sklearn.metrics._plot.confusion_matrix.ConfusionMatrixDisplay at 0x1f88ef2bd00>"
      ]
     },
     "execution_count": 35,
     "metadata": {},
     "output_type": "execute_result"
    },
    {
     "data": {
      "image/png": "[encoded data removed]",
      "text/plain": [
       "<Figure size 640x480 with 2 Axes>"
      ]
     },
     "metadata": {},
     "output_type": "display_data"
    }
   ],
   "source": [
    "disp = metrics.ConfusionMatrixDisplay(confusion_matrix=cm, display_labels = clf.classes_)\n",
    "disp.plot()"
   ]
  },
  {
   "cell_type": "code",
   "execution_count": null,
   "id": "2758f92f-7304-4508-b333-1be43a5b71ed",
   "metadata": {},
   "outputs": [],
   "source": []
  }
 ],
 "metadata": {
  "kernelspec": {
   "display_name": "Python 3 (ipykernel)",
   "language": "python",
   "name": "python3"
  },
  "language_info": {
   "codemirror_mode": {
    "name": "ipython",
    "version": 3
   },
   "file_extension": ".py",
   "mimetype": "text/x-python",
   "name": "python",
   "nbconvert_exporter": "python",
   "pygments_lexer": "ipython3",
   "version": "3.9.9"
  }
 },
 "nbformat": 4,
 "nbformat_minor": 5
}
